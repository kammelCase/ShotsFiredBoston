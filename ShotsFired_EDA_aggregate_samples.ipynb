{
 "cells": [
  {
   "cell_type": "code",
   "execution_count": 1,
   "id": "2716dd3a",
   "metadata": {},
   "outputs": [],
   "source": [
    "# does everybody really die in the summer?\n",
    "\n",
    "%matplotlib inline\n",
    "import matplotlib.pyplot as plt\n",
    "import numpy as np\n",
    "import pandas as pd"
   ]
  },
  {
   "cell_type": "code",
   "execution_count": 2,
   "id": "d69f3604",
   "metadata": {},
   "outputs": [
    {
     "data": {
      "text/html": [
       "<div>\n",
       "<style scoped>\n",
       "    .dataframe tbody tr th:only-of-type {\n",
       "        vertical-align: middle;\n",
       "    }\n",
       "\n",
       "    .dataframe tbody tr th {\n",
       "        vertical-align: top;\n",
       "    }\n",
       "\n",
       "    .dataframe thead th {\n",
       "        text-align: right;\n",
       "    }\n",
       "</style>\n",
       "<table border=\"1\" class=\"dataframe\">\n",
       "  <thead>\n",
       "    <tr style=\"text-align: right;\">\n",
       "      <th></th>\n",
       "      <th>incident_num</th>\n",
       "      <th>incident_date</th>\n",
       "      <th>district</th>\n",
       "      <th>ballistics_evidence</th>\n",
       "    </tr>\n",
       "  </thead>\n",
       "  <tbody>\n",
       "    <tr>\n",
       "      <th>0</th>\n",
       "      <td>I152000093-00</td>\n",
       "      <td>2015-01-01 04:17:00+00</td>\n",
       "      <td>C11</td>\n",
       "      <td>f</td>\n",
       "    </tr>\n",
       "    <tr>\n",
       "      <th>1</th>\n",
       "      <td>I152000042-00</td>\n",
       "      <td>2015-01-01 00:05:00+00</td>\n",
       "      <td>A15</td>\n",
       "      <td>f</td>\n",
       "    </tr>\n",
       "    <tr>\n",
       "      <th>2</th>\n",
       "      <td>I152000514-00</td>\n",
       "      <td>2015-01-02 15:51:00+00</td>\n",
       "      <td>B3</td>\n",
       "      <td>t</td>\n",
       "    </tr>\n",
       "    <tr>\n",
       "      <th>3</th>\n",
       "      <td>I152000965-00</td>\n",
       "      <td>2015-01-04 15:30:00+00</td>\n",
       "      <td>B2</td>\n",
       "      <td>t</td>\n",
       "    </tr>\n",
       "    <tr>\n",
       "      <th>4</th>\n",
       "      <td>I152000872-00</td>\n",
       "      <td>2015-01-04 00:13:00+00</td>\n",
       "      <td>B2</td>\n",
       "      <td>f</td>\n",
       "    </tr>\n",
       "  </tbody>\n",
       "</table>\n",
       "</div>"
      ],
      "text/plain": [
       "    incident_num           incident_date district ballistics_evidence\n",
       "0  I152000093-00  2015-01-01 04:17:00+00      C11                   f\n",
       "1  I152000042-00  2015-01-01 00:05:00+00      A15                   f\n",
       "2  I152000514-00  2015-01-02 15:51:00+00       B3                   t\n",
       "3  I152000965-00  2015-01-04 15:30:00+00       B2                   t\n",
       "4  I152000872-00  2015-01-04 00:13:00+00       B2                   f"
      ]
     },
     "execution_count": 2,
     "metadata": {},
     "output_type": "execute_result"
    }
   ],
   "source": [
    "# read in the data\n",
    "\n",
    "shots = pd.read_csv('data/boston_shots_fired.csv')\n",
    "shots.head()"
   ]
  },
  {
   "cell_type": "code",
   "execution_count": 3,
   "id": "ced95c3b",
   "metadata": {},
   "outputs": [],
   "source": [
    "# cleaning up shots data\n",
    "\n",
    "# we don't particuarly need the incident number as it stands\n",
    "shots = shots.drop(columns=['incident_num'])\n",
    "\n",
    "# let's convert the date column to a datetime object\n",
    "shots['incident_date'] = pd.to_datetime(shots['incident_date'])\n",
    "\n",
    "# let's simplify the incident_date column to show just year, month, and day\n",
    "shots['incident_date'] = shots['incident_date'].dt.date\n",
    "shots['incident_date'] = pd.to_datetime(shots['incident_date'])\n",
    "\n",
    "# let's convert the ballistic entry to a boolean\n",
    "shots['ballistics_evidence'] = shots['ballistics_evidence'] == 't'"
   ]
  },
  {
   "cell_type": "code",
   "execution_count": 4,
   "id": "88385c9c",
   "metadata": {},
   "outputs": [
    {
     "data": {
      "text/html": [
       "<div>\n",
       "<style scoped>\n",
       "    .dataframe tbody tr th:only-of-type {\n",
       "        vertical-align: middle;\n",
       "    }\n",
       "\n",
       "    .dataframe tbody tr th {\n",
       "        vertical-align: top;\n",
       "    }\n",
       "\n",
       "    .dataframe thead th {\n",
       "        text-align: right;\n",
       "    }\n",
       "</style>\n",
       "<table border=\"1\" class=\"dataframe\">\n",
       "  <thead>\n",
       "    <tr style=\"text-align: right;\">\n",
       "      <th></th>\n",
       "      <th>DATE</th>\n",
       "      <th>AWND</th>\n",
       "      <th>PRCP</th>\n",
       "      <th>SNOW</th>\n",
       "      <th>TAVG</th>\n",
       "    </tr>\n",
       "  </thead>\n",
       "  <tbody>\n",
       "    <tr>\n",
       "      <th>0</th>\n",
       "      <td>2015-01-01</td>\n",
       "      <td>14.32</td>\n",
       "      <td>0.00</td>\n",
       "      <td>0.0</td>\n",
       "      <td>26</td>\n",
       "    </tr>\n",
       "    <tr>\n",
       "      <th>1</th>\n",
       "      <td>2015-01-02</td>\n",
       "      <td>12.75</td>\n",
       "      <td>0.00</td>\n",
       "      <td>0.0</td>\n",
       "      <td>34</td>\n",
       "    </tr>\n",
       "    <tr>\n",
       "      <th>2</th>\n",
       "      <td>2015-01-03</td>\n",
       "      <td>10.29</td>\n",
       "      <td>0.62</td>\n",
       "      <td>1.4</td>\n",
       "      <td>28</td>\n",
       "    </tr>\n",
       "    <tr>\n",
       "      <th>3</th>\n",
       "      <td>2015-01-04</td>\n",
       "      <td>8.28</td>\n",
       "      <td>0.57</td>\n",
       "      <td>0.0</td>\n",
       "      <td>38</td>\n",
       "    </tr>\n",
       "    <tr>\n",
       "      <th>4</th>\n",
       "      <td>2015-01-05</td>\n",
       "      <td>22.15</td>\n",
       "      <td>0.00</td>\n",
       "      <td>0.0</td>\n",
       "      <td>40</td>\n",
       "    </tr>\n",
       "  </tbody>\n",
       "</table>\n",
       "</div>"
      ],
      "text/plain": [
       "        DATE   AWND  PRCP  SNOW  TAVG\n",
       "0 2015-01-01  14.32  0.00   0.0    26\n",
       "1 2015-01-02  12.75  0.00   0.0    34\n",
       "2 2015-01-03  10.29  0.62   1.4    28\n",
       "3 2015-01-04   8.28  0.57   0.0    38\n",
       "4 2015-01-05  22.15  0.00   0.0    40"
      ]
     },
     "execution_count": 4,
     "metadata": {},
     "output_type": "execute_result"
    }
   ],
   "source": [
    "# read in weather data\n",
    "weather1 = pd.read_csv('data/bos_weather_2015_2017.csv')\n",
    "weather2 = pd.read_csv('data/bos_weather_2018_2020.csv')\n",
    "weather3 = pd.read_csv('data/bos_weather_2021_2023.csv')\n",
    "\n",
    "# combine weather data\n",
    "weather = pd.concat([weather1, weather2, weather3])\n",
    "\n",
    "# isolate the columns we want\n",
    "weather = weather[['DATE', 'AWND', 'PRCP', 'SNOW', 'TAVG']]\n",
    "weather['DATE'] = pd.to_datetime(weather['DATE'])\n",
    "weather.head()"
   ]
  },
  {
   "cell_type": "code",
   "execution_count": 5,
   "id": "920a94c2",
   "metadata": {},
   "outputs": [
    {
     "data": {
      "text/plain": [
       "ballistics_evidence\n",
       "False    5317\n",
       "True     2751\n",
       "Name: count, dtype: int64"
      ]
     },
     "execution_count": 5,
     "metadata": {},
     "output_type": "execute_result"
    }
   ],
   "source": [
    "shots['ballistics_evidence'].value_counts()"
   ]
  },
  {
   "cell_type": "code",
   "execution_count": 6,
   "id": "7f3df671",
   "metadata": {},
   "outputs": [
    {
     "data": {
      "text/html": [
       "<div>\n",
       "<style scoped>\n",
       "    .dataframe tbody tr th:only-of-type {\n",
       "        vertical-align: middle;\n",
       "    }\n",
       "\n",
       "    .dataframe tbody tr th {\n",
       "        vertical-align: top;\n",
       "    }\n",
       "\n",
       "    .dataframe thead th {\n",
       "        text-align: right;\n",
       "    }\n",
       "</style>\n",
       "<table border=\"1\" class=\"dataframe\">\n",
       "  <thead>\n",
       "    <tr style=\"text-align: right;\">\n",
       "      <th></th>\n",
       "      <th>incident_date</th>\n",
       "      <th>district</th>\n",
       "      <th>ballistics_evidence</th>\n",
       "      <th>incident_count</th>\n",
       "    </tr>\n",
       "  </thead>\n",
       "  <tbody>\n",
       "    <tr>\n",
       "      <th>0</th>\n",
       "      <td>2015-01-01</td>\n",
       "      <td>C11A15</td>\n",
       "      <td>0</td>\n",
       "      <td>2</td>\n",
       "    </tr>\n",
       "    <tr>\n",
       "      <th>1</th>\n",
       "      <td>2015-01-02</td>\n",
       "      <td>B3E13</td>\n",
       "      <td>1</td>\n",
       "      <td>2</td>\n",
       "    </tr>\n",
       "    <tr>\n",
       "      <th>2</th>\n",
       "      <td>2015-01-03</td>\n",
       "      <td>B2</td>\n",
       "      <td>0</td>\n",
       "      <td>1</td>\n",
       "    </tr>\n",
       "    <tr>\n",
       "      <th>3</th>\n",
       "      <td>2015-01-04</td>\n",
       "      <td>B2B2</td>\n",
       "      <td>1</td>\n",
       "      <td>2</td>\n",
       "    </tr>\n",
       "    <tr>\n",
       "      <th>4</th>\n",
       "      <td>2015-01-05</td>\n",
       "      <td>C6</td>\n",
       "      <td>0</td>\n",
       "      <td>1</td>\n",
       "    </tr>\n",
       "  </tbody>\n",
       "</table>\n",
       "</div>"
      ],
      "text/plain": [
       "  incident_date district  ballistics_evidence  incident_count\n",
       "0    2015-01-01   C11A15                    0               2\n",
       "1    2015-01-02    B3E13                    1               2\n",
       "2    2015-01-03       B2                    0               1\n",
       "3    2015-01-04     B2B2                    1               2\n",
       "4    2015-01-05       C6                    0               1"
      ]
     },
     "execution_count": 6,
     "metadata": {},
     "output_type": "execute_result"
    }
   ],
   "source": [
    "# lets add a incident_count column to count the number of incidents per day\n",
    "shots['incident_count'] = 1\n",
    "\n",
    "# now let's group by day and sum only the incident_count column\n",
    "shots_daily = shots.groupby(['incident_date']).sum().reset_index()\n",
    "\n",
    "shots_daily.head()"
   ]
  },
  {
   "cell_type": "code",
   "execution_count": 7,
   "id": "4ee64788",
   "metadata": {},
   "outputs": [
    {
     "data": {
      "text/html": [
       "<div>\n",
       "<style scoped>\n",
       "    .dataframe tbody tr th:only-of-type {\n",
       "        vertical-align: middle;\n",
       "    }\n",
       "\n",
       "    .dataframe tbody tr th {\n",
       "        vertical-align: top;\n",
       "    }\n",
       "\n",
       "    .dataframe thead th {\n",
       "        text-align: right;\n",
       "    }\n",
       "</style>\n",
       "<table border=\"1\" class=\"dataframe\">\n",
       "  <thead>\n",
       "    <tr style=\"text-align: right;\">\n",
       "      <th></th>\n",
       "      <th>DATE</th>\n",
       "      <th>AWND</th>\n",
       "      <th>PRCP</th>\n",
       "      <th>SNOW</th>\n",
       "      <th>TAVG</th>\n",
       "    </tr>\n",
       "  </thead>\n",
       "  <tbody>\n",
       "    <tr>\n",
       "      <th>0</th>\n",
       "      <td>2015-01-01</td>\n",
       "      <td>14.32</td>\n",
       "      <td>0.00</td>\n",
       "      <td>0.0</td>\n",
       "      <td>26</td>\n",
       "    </tr>\n",
       "    <tr>\n",
       "      <th>1</th>\n",
       "      <td>2015-01-02</td>\n",
       "      <td>12.75</td>\n",
       "      <td>0.00</td>\n",
       "      <td>0.0</td>\n",
       "      <td>34</td>\n",
       "    </tr>\n",
       "    <tr>\n",
       "      <th>2</th>\n",
       "      <td>2015-01-03</td>\n",
       "      <td>10.29</td>\n",
       "      <td>0.62</td>\n",
       "      <td>1.4</td>\n",
       "      <td>28</td>\n",
       "    </tr>\n",
       "    <tr>\n",
       "      <th>3</th>\n",
       "      <td>2015-01-04</td>\n",
       "      <td>8.28</td>\n",
       "      <td>0.57</td>\n",
       "      <td>0.0</td>\n",
       "      <td>38</td>\n",
       "    </tr>\n",
       "    <tr>\n",
       "      <th>4</th>\n",
       "      <td>2015-01-05</td>\n",
       "      <td>22.15</td>\n",
       "      <td>0.00</td>\n",
       "      <td>0.0</td>\n",
       "      <td>40</td>\n",
       "    </tr>\n",
       "  </tbody>\n",
       "</table>\n",
       "</div>"
      ],
      "text/plain": [
       "        DATE   AWND  PRCP  SNOW  TAVG\n",
       "0 2015-01-01  14.32  0.00   0.0    26\n",
       "1 2015-01-02  12.75  0.00   0.0    34\n",
       "2 2015-01-03  10.29  0.62   1.4    28\n",
       "3 2015-01-04   8.28  0.57   0.0    38\n",
       "4 2015-01-05  22.15  0.00   0.0    40"
      ]
     },
     "execution_count": 7,
     "metadata": {},
     "output_type": "execute_result"
    }
   ],
   "source": [
    "weather.head()"
   ]
  },
  {
   "cell_type": "code",
   "execution_count": 8,
   "id": "331f1fdb",
   "metadata": {},
   "outputs": [
    {
     "data": {
      "text/html": [
       "<div>\n",
       "<style scoped>\n",
       "    .dataframe tbody tr th:only-of-type {\n",
       "        vertical-align: middle;\n",
       "    }\n",
       "\n",
       "    .dataframe tbody tr th {\n",
       "        vertical-align: top;\n",
       "    }\n",
       "\n",
       "    .dataframe thead th {\n",
       "        text-align: right;\n",
       "    }\n",
       "</style>\n",
       "<table border=\"1\" class=\"dataframe\">\n",
       "  <thead>\n",
       "    <tr style=\"text-align: right;\">\n",
       "      <th></th>\n",
       "      <th>incident_date</th>\n",
       "      <th>district</th>\n",
       "      <th>ballistics_evidence</th>\n",
       "      <th>incident_count</th>\n",
       "      <th>PRCP</th>\n",
       "      <th>SNOW</th>\n",
       "      <th>TAVG</th>\n",
       "    </tr>\n",
       "  </thead>\n",
       "  <tbody>\n",
       "    <tr>\n",
       "      <th>0</th>\n",
       "      <td>2015-01-01</td>\n",
       "      <td>C11A15</td>\n",
       "      <td>False</td>\n",
       "      <td>2</td>\n",
       "      <td>0.00</td>\n",
       "      <td>0.0</td>\n",
       "      <td>26</td>\n",
       "    </tr>\n",
       "    <tr>\n",
       "      <th>1</th>\n",
       "      <td>2015-01-02</td>\n",
       "      <td>B3E13</td>\n",
       "      <td>True</td>\n",
       "      <td>2</td>\n",
       "      <td>0.00</td>\n",
       "      <td>0.0</td>\n",
       "      <td>34</td>\n",
       "    </tr>\n",
       "    <tr>\n",
       "      <th>2</th>\n",
       "      <td>2015-01-03</td>\n",
       "      <td>B2</td>\n",
       "      <td>False</td>\n",
       "      <td>1</td>\n",
       "      <td>0.62</td>\n",
       "      <td>1.4</td>\n",
       "      <td>28</td>\n",
       "    </tr>\n",
       "    <tr>\n",
       "      <th>3</th>\n",
       "      <td>2015-01-04</td>\n",
       "      <td>B2B2</td>\n",
       "      <td>True</td>\n",
       "      <td>2</td>\n",
       "      <td>0.57</td>\n",
       "      <td>0.0</td>\n",
       "      <td>38</td>\n",
       "    </tr>\n",
       "    <tr>\n",
       "      <th>4</th>\n",
       "      <td>2015-01-05</td>\n",
       "      <td>C6</td>\n",
       "      <td>False</td>\n",
       "      <td>1</td>\n",
       "      <td>0.00</td>\n",
       "      <td>0.0</td>\n",
       "      <td>40</td>\n",
       "    </tr>\n",
       "  </tbody>\n",
       "</table>\n",
       "</div>"
      ],
      "text/plain": [
       "  incident_date district  ballistics_evidence  incident_count  PRCP  SNOW  \\\n",
       "0    2015-01-01   C11A15                False               2  0.00   0.0   \n",
       "1    2015-01-02    B3E13                 True               2  0.00   0.0   \n",
       "2    2015-01-03       B2                False               1  0.62   1.4   \n",
       "3    2015-01-04     B2B2                 True               2  0.57   0.0   \n",
       "4    2015-01-05       C6                False               1  0.00   0.0   \n",
       "\n",
       "   TAVG  \n",
       "0    26  \n",
       "1    34  \n",
       "2    28  \n",
       "3    38  \n",
       "4    40  "
      ]
     },
     "execution_count": 8,
     "metadata": {},
     "output_type": "execute_result"
    }
   ],
   "source": [
    "# let's add the weather data to the shots data\n",
    "shots_daily = pd.merge(shots_daily, weather, left_on='incident_date', right_on='DATE')\n",
    "\n",
    "# dropping redundant date column and wind speed (might reintroduce this later, though)\n",
    "shots_daily = shots_daily.drop(columns=['DATE', 'AWND'])\n",
    "\n",
    "# converting ballistics_evidence to a boolean\n",
    "shots_daily['ballistics_evidence'] = shots_daily['ballistics_evidence'] == 1\n",
    "\n",
    "shots_daily.head()"
   ]
  },
  {
   "cell_type": "code",
   "execution_count": 9,
   "id": "8658cdf7",
   "metadata": {},
   "outputs": [
    {
     "data": {
      "text/plain": [
       "DATE    datetime64[ns]\n",
       "AWND           float64\n",
       "PRCP           float64\n",
       "SNOW           float64\n",
       "TAVG             int64\n",
       "dtype: object"
      ]
     },
     "execution_count": 9,
     "metadata": {},
     "output_type": "execute_result"
    }
   ],
   "source": [
    "weather.dtypes"
   ]
  },
  {
   "cell_type": "code",
   "execution_count": 10,
   "id": "34d95cbd",
   "metadata": {},
   "outputs": [
    {
     "data": {
      "text/plain": [
       "<matplotlib.collections.PathCollection at 0x127185a50>"
      ]
     },
     "execution_count": 10,
     "metadata": {},
     "output_type": "execute_result"
    },
    {
     "data": {
      "image/png": "[encoded data removed]",
      "text/plain": [
       "<Figure size 640x480 with 1 Axes>"
      ]
     },
     "metadata": {},
     "output_type": "display_data"
    }
   ],
   "source": [
    "# let's plot the number of shots fired per day as a scatter plot, where each entry represents a shot fired\n",
    "\n",
    "plt.scatter(shots_daily['incident_count'], shots_daily['PRCP'])"
   ]
  },
  {
   "cell_type": "code",
   "execution_count": 11,
   "id": "f283aea2",
   "metadata": {},
   "outputs": [],
   "source": [
    "# as much as i'd like to take credit for the math in the function below, i cant\n",
    "# thanks to jake vanderplas for the code!\n",
    "\n",
    "import datetime\n",
    "def hours_of_daylight(date, latitude=47.61):\n",
    "    \"\"\"Compute the hours of daylight for the given date\"\"\"\n",
    "    diff = date - datetime.datetime(date.year, 1, 1)\n",
    "    day_of_year = diff.days + float(diff.seconds) / (24 * 60 * 60)\n",
    "    days_in_year = 365.2425  # average number of days in a year, accounting for leap years\n",
    "    axial_tilt = 23.44  # axial tilt of the Earth\n",
    "\n",
    "    # Calculate the declination angle\n",
    "    declination = axial_tilt * np.sin(np.radians(360.0 * (day_of_year + 10) / days_in_year))\n",
    "\n",
    "    # Calculate the hour angle\n",
    "    hour_angle = np.arccos(-np.tan(np.radians(latitude)) * np.tan(np.radians(declination)))\n",
    "\n",
    "    # Calculate the daylight hours\n",
    "    daylight_hours = 2 * np.degrees(hour_angle) / 15\n",
    "\n",
    "    return daylight_hours\n",
    "\n",
    "# let's add the hours of daylight to the dataframe\n",
    "shots_daily['daylight_hours'] = list(map(hours_of_daylight, shots_daily['incident_date']))"
   ]
  },
  {
   "cell_type": "code",
   "execution_count": 12,
   "id": "10bc9a06",
   "metadata": {},
   "outputs": [
    {
     "data": {
      "text/html": [
       "<div>\n",
       "<style scoped>\n",
       "    .dataframe tbody tr th:only-of-type {\n",
       "        vertical-align: middle;\n",
       "    }\n",
       "\n",
       "    .dataframe tbody tr th {\n",
       "        vertical-align: top;\n",
       "    }\n",
       "\n",
       "    .dataframe thead th {\n",
       "        text-align: right;\n",
       "    }\n",
       "</style>\n",
       "<table border=\"1\" class=\"dataframe\">\n",
       "  <thead>\n",
       "    <tr style=\"text-align: right;\">\n",
       "      <th></th>\n",
       "      <th>incident_date</th>\n",
       "      <th>district</th>\n",
       "      <th>ballistics_evidence</th>\n",
       "      <th>incident_count</th>\n",
       "      <th>PRCP</th>\n",
       "      <th>SNOW</th>\n",
       "      <th>TAVG</th>\n",
       "      <th>daylight_hours</th>\n",
       "    </tr>\n",
       "  </thead>\n",
       "  <tbody>\n",
       "    <tr>\n",
       "      <th>0</th>\n",
       "      <td>2015-01-01</td>\n",
       "      <td>C11A15</td>\n",
       "      <td>False</td>\n",
       "      <td>2</td>\n",
       "      <td>0.00</td>\n",
       "      <td>0.0</td>\n",
       "      <td>26</td>\n",
       "      <td>12.587640</td>\n",
       "    </tr>\n",
       "    <tr>\n",
       "      <th>1</th>\n",
       "      <td>2015-01-02</td>\n",
       "      <td>B3E13</td>\n",
       "      <td>True</td>\n",
       "      <td>2</td>\n",
       "      <td>0.00</td>\n",
       "      <td>0.0</td>\n",
       "      <td>34</td>\n",
       "      <td>12.646087</td>\n",
       "    </tr>\n",
       "    <tr>\n",
       "      <th>2</th>\n",
       "      <td>2015-01-03</td>\n",
       "      <td>B2</td>\n",
       "      <td>False</td>\n",
       "      <td>1</td>\n",
       "      <td>0.62</td>\n",
       "      <td>1.4</td>\n",
       "      <td>28</td>\n",
       "      <td>12.704440</td>\n",
       "    </tr>\n",
       "    <tr>\n",
       "      <th>3</th>\n",
       "      <td>2015-01-04</td>\n",
       "      <td>B2B2</td>\n",
       "      <td>True</td>\n",
       "      <td>2</td>\n",
       "      <td>0.57</td>\n",
       "      <td>0.0</td>\n",
       "      <td>38</td>\n",
       "      <td>12.762693</td>\n",
       "    </tr>\n",
       "    <tr>\n",
       "      <th>4</th>\n",
       "      <td>2015-01-05</td>\n",
       "      <td>C6</td>\n",
       "      <td>False</td>\n",
       "      <td>1</td>\n",
       "      <td>0.00</td>\n",
       "      <td>0.0</td>\n",
       "      <td>40</td>\n",
       "      <td>12.820834</td>\n",
       "    </tr>\n",
       "  </tbody>\n",
       "</table>\n",
       "</div>"
      ],
      "text/plain": [
       "  incident_date district  ballistics_evidence  incident_count  PRCP  SNOW  \\\n",
       "0    2015-01-01   C11A15                False               2  0.00   0.0   \n",
       "1    2015-01-02    B3E13                 True               2  0.00   0.0   \n",
       "2    2015-01-03       B2                False               1  0.62   1.4   \n",
       "3    2015-01-04     B2B2                 True               2  0.57   0.0   \n",
       "4    2015-01-05       C6                False               1  0.00   0.0   \n",
       "\n",
       "   TAVG  daylight_hours  \n",
       "0    26       12.587640  \n",
       "1    34       12.646087  \n",
       "2    28       12.704440  \n",
       "3    38       12.762693  \n",
       "4    40       12.820834  "
      ]
     },
     "execution_count": 12,
     "metadata": {},
     "output_type": "execute_result"
    }
   ],
   "source": [
    "shots_daily.head()"
   ]
  },
  {
   "cell_type": "code",
   "execution_count": 13,
   "id": "2058b527",
   "metadata": {},
   "outputs": [
    {
     "data": {
      "text/plain": [
       "Text(0, 0.5, 'incident count')"
      ]
     },
     "execution_count": 13,
     "metadata": {},
     "output_type": "execute_result"
    },
    {
     "data": {
      "image/png": "[encoded data removed]",
      "text/plain": [
       "<Figure size 640x480 with 1 Axes>"
      ]
     },
     "metadata": {},
     "output_type": "display_data"
    }
   ],
   "source": [
    "plt.scatter(shots_daily['daylight_hours'], shots_daily['incident_count'])\n",
    "plt.xlabel('hours of daylight')\n",
    "plt.ylabel('incident count')\n",
    "\n",
    "# very interesting. on first glance, the hours of daylight doesn't seem to\n",
    "# have much of a correlation with the incident count\n",
    "# this sort of makes sense, as you may imagine that illegal activity might occur\n",
    "# more often at night, when there is less daylight"
   ]
  },
  {
   "cell_type": "code",
   "execution_count": 14,
   "id": "229b82bb",
   "metadata": {},
   "outputs": [
    {
     "data": {
      "text/html": [
       "<div>\n",
       "<style scoped>\n",
       "    .dataframe tbody tr th:only-of-type {\n",
       "        vertical-align: middle;\n",
       "    }\n",
       "\n",
       "    .dataframe tbody tr th {\n",
       "        vertical-align: top;\n",
       "    }\n",
       "\n",
       "    .dataframe thead th {\n",
       "        text-align: right;\n",
       "    }\n",
       "</style>\n",
       "<table border=\"1\" class=\"dataframe\">\n",
       "  <thead>\n",
       "    <tr style=\"text-align: right;\">\n",
       "      <th></th>\n",
       "      <th>incident_date</th>\n",
       "      <th>district</th>\n",
       "      <th>ballistics_evidence</th>\n",
       "      <th>incident_count</th>\n",
       "      <th>PRCP</th>\n",
       "      <th>SNOW</th>\n",
       "      <th>TAVG</th>\n",
       "      <th>daylight_hours</th>\n",
       "    </tr>\n",
       "  </thead>\n",
       "  <tbody>\n",
       "    <tr>\n",
       "      <th>2801</th>\n",
       "      <td>2023-12-01</td>\n",
       "      <td>B2E18</td>\n",
       "      <td>False</td>\n",
       "      <td>2</td>\n",
       "      <td>0.06</td>\n",
       "      <td>0.0</td>\n",
       "      <td>46</td>\n",
       "      <td>10.762275</td>\n",
       "    </tr>\n",
       "    <tr>\n",
       "      <th>2802</th>\n",
       "      <td>2023-12-02</td>\n",
       "      <td>E18B2B2C11B3C11</td>\n",
       "      <td>False</td>\n",
       "      <td>6</td>\n",
       "      <td>0.00</td>\n",
       "      <td>0.0</td>\n",
       "      <td>48</td>\n",
       "      <td>10.819320</td>\n",
       "    </tr>\n",
       "    <tr>\n",
       "      <th>2803</th>\n",
       "      <td>2023-12-03</td>\n",
       "      <td>B3E18E5</td>\n",
       "      <td>False</td>\n",
       "      <td>3</td>\n",
       "      <td>0.79</td>\n",
       "      <td>0.0</td>\n",
       "      <td>45</td>\n",
       "      <td>10.876549</td>\n",
       "    </tr>\n",
       "    <tr>\n",
       "      <th>2804</th>\n",
       "      <td>2023-12-04</td>\n",
       "      <td>E13E18</td>\n",
       "      <td>False</td>\n",
       "      <td>2</td>\n",
       "      <td>0.11</td>\n",
       "      <td>0.0</td>\n",
       "      <td>44</td>\n",
       "      <td>10.933952</td>\n",
       "    </tr>\n",
       "    <tr>\n",
       "      <th>2805</th>\n",
       "      <td>2023-12-05</td>\n",
       "      <td>B3B2B2B2B3E18</td>\n",
       "      <td>False</td>\n",
       "      <td>6</td>\n",
       "      <td>0.00</td>\n",
       "      <td>0.0</td>\n",
       "      <td>39</td>\n",
       "      <td>10.991517</td>\n",
       "    </tr>\n",
       "  </tbody>\n",
       "</table>\n",
       "</div>"
      ],
      "text/plain": [
       "     incident_date         district  ballistics_evidence  incident_count  \\\n",
       "2801    2023-12-01            B2E18                False               2   \n",
       "2802    2023-12-02  E18B2B2C11B3C11                False               6   \n",
       "2803    2023-12-03          B3E18E5                False               3   \n",
       "2804    2023-12-04           E13E18                False               2   \n",
       "2805    2023-12-05    B3B2B2B2B3E18                False               6   \n",
       "\n",
       "      PRCP  SNOW  TAVG  daylight_hours  \n",
       "2801  0.06   0.0    46       10.762275  \n",
       "2802  0.00   0.0    48       10.819320  \n",
       "2803  0.79   0.0    45       10.876549  \n",
       "2804  0.11   0.0    44       10.933952  \n",
       "2805  0.00   0.0    39       10.991517  "
      ]
     },
     "execution_count": 14,
     "metadata": {},
     "output_type": "execute_result"
    }
   ],
   "source": [
    "shots_daily.tail()"
   ]
  },
  {
   "cell_type": "code",
   "execution_count": 15,
   "id": "f4e73619",
   "metadata": {},
   "outputs": [
    {
     "data": {
      "text/plain": [
       "Text(0, 0.5, 'incident count')"
      ]
     },
     "execution_count": 15,
     "metadata": {},
     "output_type": "execute_result"
    },
    {
     "data": {
      "image/png": "[encoded data removed]",
      "text/plain": [
       "<Figure size 640x480 with 1 Axes>"
      ]
     },
     "metadata": {},
     "output_type": "display_data"
    }
   ],
   "source": [
    "plt.scatter(shots_daily['TAVG'], shots_daily['incident_count'])\n",
    "plt.xlabel('average temperature')\n",
    "plt.ylabel('incident count')\n",
    "\n",
    "# the average temperature seems to have a stronger correlation with the incident count"
   ]
  },
  {
   "cell_type": "code",
   "execution_count": 16,
   "id": "87e262e6",
   "metadata": {},
   "outputs": [
    {
     "data": {
      "text/plain": [
       "Text(0, 0.5, 'incident count')"
      ]
     },
     "execution_count": 16,
     "metadata": {},
     "output_type": "execute_result"
    },
    {
     "data": {
      "image/png": "[encoded data removed]",
      "text/plain": [
       "<Figure size 640x480 with 1 Axes>"
      ]
     },
     "metadata": {},
     "output_type": "display_data"
    }
   ],
   "source": [
    "plt.scatter(shots_daily['SNOW'], shots_daily['incident_count'])\n",
    "plt.xlabel('snowfall')\n",
    "plt.ylabel('incident count')\n",
    "\n",
    "# on first glance, it looks like the snowfall has a stronger correlation\n",
    "# but since snowfall is relatively rare, it's hard to say for sure"
   ]
  },
  {
   "cell_type": "code",
   "execution_count": 17,
   "id": "853448ad",
   "metadata": {},
   "outputs": [
    {
     "data": {
      "text/plain": [
       "Text(0, 0.5, 'incident count')"
      ]
     },
     "execution_count": 17,
     "metadata": {},
     "output_type": "execute_result"
    },
    {
     "data": {
      "image/png": "[encoded data removed]",
      "text/plain": [
       "<Figure size 640x480 with 1 Axes>"
      ]
     },
     "metadata": {},
     "output_type": "display_data"
    }
   ],
   "source": [
    "plt.scatter(shots_daily['PRCP'], shots_daily['incident_count'])\n",
    "plt.xlabel('precipitation')\n",
    "plt.ylabel('incident count')"
   ]
  },
  {
   "cell_type": "code",
   "execution_count": 18,
   "id": "b9a264bf",
   "metadata": {},
   "outputs": [
    {
     "data": {
      "text/html": [
       "<div>\n",
       "<style scoped>\n",
       "    .dataframe tbody tr th:only-of-type {\n",
       "        vertical-align: middle;\n",
       "    }\n",
       "\n",
       "    .dataframe tbody tr th {\n",
       "        vertical-align: top;\n",
       "    }\n",
       "\n",
       "    .dataframe thead th {\n",
       "        text-align: right;\n",
       "    }\n",
       "</style>\n",
       "<table border=\"1\" class=\"dataframe\">\n",
       "  <thead>\n",
       "    <tr style=\"text-align: right;\">\n",
       "      <th></th>\n",
       "      <th>incident_date</th>\n",
       "      <th>district</th>\n",
       "      <th>ballistics_evidence</th>\n",
       "      <th>incident_count</th>\n",
       "      <th>PRCP</th>\n",
       "      <th>SNOW</th>\n",
       "      <th>TAVG</th>\n",
       "      <th>daylight_hours</th>\n",
       "    </tr>\n",
       "  </thead>\n",
       "  <tbody>\n",
       "    <tr>\n",
       "      <th>0</th>\n",
       "      <td>2015-01-01</td>\n",
       "      <td>C11A15</td>\n",
       "      <td>False</td>\n",
       "      <td>2</td>\n",
       "      <td>0.00</td>\n",
       "      <td>0.0</td>\n",
       "      <td>26</td>\n",
       "      <td>12.587640</td>\n",
       "    </tr>\n",
       "    <tr>\n",
       "      <th>1</th>\n",
       "      <td>2015-01-02</td>\n",
       "      <td>B3E13</td>\n",
       "      <td>True</td>\n",
       "      <td>2</td>\n",
       "      <td>0.00</td>\n",
       "      <td>0.0</td>\n",
       "      <td>34</td>\n",
       "      <td>12.646087</td>\n",
       "    </tr>\n",
       "    <tr>\n",
       "      <th>2</th>\n",
       "      <td>2015-01-03</td>\n",
       "      <td>B2</td>\n",
       "      <td>False</td>\n",
       "      <td>1</td>\n",
       "      <td>0.62</td>\n",
       "      <td>1.4</td>\n",
       "      <td>28</td>\n",
       "      <td>12.704440</td>\n",
       "    </tr>\n",
       "    <tr>\n",
       "      <th>3</th>\n",
       "      <td>2015-01-04</td>\n",
       "      <td>B2B2</td>\n",
       "      <td>True</td>\n",
       "      <td>2</td>\n",
       "      <td>0.57</td>\n",
       "      <td>0.0</td>\n",
       "      <td>38</td>\n",
       "      <td>12.762693</td>\n",
       "    </tr>\n",
       "    <tr>\n",
       "      <th>4</th>\n",
       "      <td>2015-01-05</td>\n",
       "      <td>C6</td>\n",
       "      <td>False</td>\n",
       "      <td>1</td>\n",
       "      <td>0.00</td>\n",
       "      <td>0.0</td>\n",
       "      <td>40</td>\n",
       "      <td>12.820834</td>\n",
       "    </tr>\n",
       "  </tbody>\n",
       "</table>\n",
       "</div>"
      ],
      "text/plain": [
       "  incident_date district  ballistics_evidence  incident_count  PRCP  SNOW  \\\n",
       "0    2015-01-01   C11A15                False               2  0.00   0.0   \n",
       "1    2015-01-02    B3E13                 True               2  0.00   0.0   \n",
       "2    2015-01-03       B2                False               1  0.62   1.4   \n",
       "3    2015-01-04     B2B2                 True               2  0.57   0.0   \n",
       "4    2015-01-05       C6                False               1  0.00   0.0   \n",
       "\n",
       "   TAVG  daylight_hours  \n",
       "0    26       12.587640  \n",
       "1    34       12.646087  \n",
       "2    28       12.704440  \n",
       "3    38       12.762693  \n",
       "4    40       12.820834  "
      ]
     },
     "execution_count": 18,
     "metadata": {},
     "output_type": "execute_result"
    }
   ],
   "source": [
    "shots_daily.head()"
   ]
  }
 ],
 "metadata": {
  "kernelspec": {
   "display_name": "Python 3 (ipykernel)",
   "language": "python",
   "name": "python3"
  },
  "language_info": {
   "codemirror_mode": {
    "name": "ipython",
    "version": 3
   },
   "file_extension": ".py",
   "mimetype": "text/x-python",
   "name": "python",
   "nbconvert_exporter": "python",
   "pygments_lexer": "ipython3",
   "version": "3.11.5"
  }
 },
 "nbformat": 4,
 "nbformat_minor": 5
}
